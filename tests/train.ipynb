{
 "cells": [
  {
   "cell_type": "code",
   "execution_count": 1,
   "id": "agreed-radius",
   "metadata": {},
   "outputs": [],
   "source": [
    "import torch"
   ]
  },
  {
   "cell_type": "code",
   "execution_count": null,
   "id": "capital-alert",
   "metadata": {},
   "outputs": [],
   "source": [
    "def train(model: nn.Module, optimizer: Optimizer, loss: nn.Module, train_loader: DataLoader,\n",
    "          valid_loader: DataLoader = None, epochs: int = 100, gpu: int = None,\n",
    "          score: list = None, scheduler=None, make_sigmoid=False, make_softmax=False) -> tuple:\n",
    "    \"\"\"\n",
    "    :param model: torch ML model\n",
    "    :param optimizer: torch optimizer algorithm\n",
    "    :param loss: loss function\n",
    "    :param train_loader: training set\n",
    "    :param valid_loader: validation set\n",
    "    :param epochs: number of epochs\n",
    "    :param gpu: gpu number\n",
    "    :param scheduler: Learning Rate scheduler\n",
    "    :return: train accuracy, train loss, validation accuracy, validation loss\n",
    "    \"\"\"\n",
    "    # GPU\n",
    "    if gpu is not None:\n",
    "        model = model.cuda(gpu)\n",
    "\n",
    "    epochs_train_loss = []\n",
    "    epochs_valid_loss = []\n",
    "    for ep in range(epochs):\n",
    "        model.training = True\n",
    "\n",
    "        all_losses = []\n",
    "        all_predictions = []\n",
    "        all_targets = []\n",
    "        for i, (inputs, targets) in enumerate(train_loader):\n",
    "            # GPU\n",
    "            if gpu is not None:\n",
    "                inputs = inputs.cuda(gpu)\n",
    "                targets = targets.float().cuda(gpu)\n",
    "\n",
    "            predictions = model(inputs).squeeze()\n",
    "            err = loss(predictions, targets)\n",
    "\n",
    "            # Machine is learning\n",
    "            err.backward()\n",
    "            optimizer.step()\n",
    "            optimizer.zero_grad()\n",
    "\n",
    "            # Clean GPU\n",
    "            if gpu is not None:\n",
    "                err = err.detach().cpu()\n",
    "                inputs = inputs.cpu()\n",
    "                targets = targets.cpu()\n",
    "                predictions = predictions.cpu()\n",
    "                torch.cuda.empty_cache()\n",
    "\n",
    "            all_losses.append(err)\n",
    "            \n",
    "            if make_sigmoid:\n",
    "                labels = (F.sigmoid(predictions) >= 0.5) * 1\n",
    "            elif make_softmax:\n",
    "                labels = (F.softmax(predictions) >= 0.5) * 1\n",
    "            else:\n",
    "                labels = predictions\n",
    "                \n",
    "            all_predictions.append(labels)\n",
    "            all_targets.append(targets)\n",
    "\n",
    "            print(\n",
    "                f'\\rBatch : {i + 1} / {len(train_loader)} - Loss : {err:.2e}',\n",
    "                end='')\n",
    "        \n",
    "        all_predictions = torch.vstack(all_predictions)\n",
    "        all_targets = torch.vstack(all_targets)\n",
    "\n",
    "        train_loss = np.vstack(all_losses).mean()\n",
    "\n",
    "        # Historic\n",
    "        epochs_train_loss.append(train_loss)\n",
    "\n",
    "        if scheduler is not None:\n",
    "            scheduler.step()\n",
    "\n",
    "        # Validation step\n",
    "        if valid_loader is not None:\n",
    "            valid_loss = valid(model, loss, valid_loader, gpu)\n",
    "            # Historic\n",
    "            epochs_valid_loss.append(valid_loss)\n",
    "            print(\n",
    "                f'\\rEpoch : {ep + 1} - Train Loss : {train_loss:.2e} - '\n",
    "                f'- Valid Loss : {valid_loss:.2e}')\n",
    "        else:\n",
    "            # Display epoch information\n",
    "            print(f'\\rEpoch : {ep + 1} - Train Loss : {train_loss:.2e}')\n",
    "\n",
    "    if valid_loader is not None:\n",
    "        return epochs_train_loss, epochs_valid_loss\n",
    "\n",
    "    return epochs_train_loss"
   ]
  },
  {
   "cell_type": "code",
   "execution_count": 2,
   "id": "favorite-worse",
   "metadata": {},
   "outputs": [],
   "source": [
    "a = torch.randn((15, 1))\n",
    "b = torch.randn((9, 1))"
   ]
  },
  {
   "cell_type": "code",
   "execution_count": 4,
   "id": "secure-scotland",
   "metadata": {},
   "outputs": [
    {
     "data": {
      "text/plain": [
       "torch.Size([24, 1])"
      ]
     },
     "execution_count": 4,
     "metadata": {},
     "output_type": "execute_result"
    }
   ],
   "source": [
    "torch.vstack((a, b)).shape"
   ]
  }
 ],
 "metadata": {
  "jupytext": {
   "formats": "ipynb,py:light"
  },
  "kernelspec": {
   "display_name": "Python 3",
   "language": "python",
   "name": "python3"
  },
  "language_info": {
   "codemirror_mode": {
    "name": "ipython",
    "version": 3
   },
   "file_extension": ".py",
   "mimetype": "text/x-python",
   "name": "python",
   "nbconvert_exporter": "python",
   "pygments_lexer": "ipython3",
   "version": "3.8.8"
  }
 },
 "nbformat": 4,
 "nbformat_minor": 5
}
